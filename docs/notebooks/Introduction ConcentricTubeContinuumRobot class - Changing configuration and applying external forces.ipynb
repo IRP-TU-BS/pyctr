{
 "cells": [
  {
   "cell_type": "markdown",
   "metadata": {},
   "source": [
    "# Introduction to the robot class\n",
    "The main class for constructing a concentric tube continuum robot with this framework is the `ConcentricTubeContinuumRobot` class. \n",
    "The robot class contains all the necessary methods to calculate the shape of the contric tubes of a robot. It may also be used to simulate a single rod (which represents a robot with a single rod). You can read about all methods and attributes of the class in the documentation pages. \n",
    "In this small tutorial, we want to create a small example of a two tube robot and apply a an external force to it."
   ]
  },
  {
   "cell_type": "markdown",
   "metadata": {},
   "source": [
    "## necessary imports for the robot class\n",
    "*TODO* the name is still a bit confusing and will be simplified in the next release\n",
    "We import the `ConcentricTubeContinuumRobot` and a rod class called `CurvedCosseratRodExt` which could work standalone, but is only used for teaching and learning purposes to show beginners how to model rods with Cosserat Rod theory.  "
   ]
  },
  {
   "cell_type": "code",
   "execution_count": 1,
   "metadata": {},
   "outputs": [],
   "source": [
    "from pyctcr.cosserat_rod_force_along import CurvedCosseratRodExt\n",
    "from pyctcr.robots import ConcentricTubeContinuumRobot"
   ]
  },
  {
   "cell_type": "markdown",
   "metadata": {},
   "source": [
    "Futhermore, we import helper functions to parse yaml files describing the robot and the tubes of the robot. Eventually, we need to import numpy."
   ]
  },
  {
   "cell_type": "code",
   "execution_count": 2,
   "metadata": {},
   "outputs": [],
   "source": [
    "from pyctcr.yaml_to_model import setup_tubes\n",
    "import numpy as np"
   ]
  },
  {
   "cell_type": "markdown",
   "metadata": {},
   "source": [
    "## Generating the robot from a yaml-file"
   ]
  },
  {
   "cell_type": "markdown",
   "metadata": {},
   "source": [
    "In the following code, we load the tubes configuration from a yaml file which describes the robot as a set of rods and the rods properties. We calculate the straight and curved parts of the rods and add them to a list of rods. Afterwards, the list is given as a parameter to the robot class constructor."
   ]
  },
  {
   "cell_type": "code",
   "execution_count": 3,
   "metadata": {},
   "outputs": [],
   "source": [
    "tube_conf = setup_tubes(\"../../example_robots/ctr_robot.yaml\")\n",
    "\n",
    "rods = []\n",
    "tubes_lenghts = []\n",
    "\n",
    "for rod_conf in tube_conf:\n",
    "    rod_conf['s'] = 1 * 1e-3\n",
    "    rod_len = rod_conf['L'] * 1e-3\n",
    "    rod_conf['L'] = rod_len\n",
    "    rod_conf['straight_length'] = rod_len - rod_conf['curved_len'] * 1e-3\n",
    "    rod_conf['curved_len'] = rod_conf['curved_len'] * 1e-3\n",
    "    tubes_lenghts.append(rod_len)\n",
    "    rod = CurvedCosseratRodExt(rod_conf)\n",
    "    p0 = np.array([[0, 0, 0]])\n",
    "    R0 = np.eye(3)\n",
    "    rod.set_initial_conditions(p0, R0)\n",
    "    rods.append(rod)\n",
    "ctr = ConcentricTubeContinuumRobot(rods)"
   ]
  },
  {
   "cell_type": "markdown",
   "metadata": {},
   "source": [
    "## Changing the configuration of the robot"
   ]
  },
  {
   "cell_type": "markdown",
   "metadata": {},
   "source": [
    "To move the robot you can rotate the robots tube"
   ]
  },
  {
   "cell_type": "code",
   "execution_count": 4,
   "metadata": {},
   "outputs": [],
   "source": [
    "ctr.rotate([1.5,0])"
   ]
  },
  {
   "cell_type": "markdown",
   "metadata": {},
   "source": [
    "given a list of angles in radiant. The list starts with the inner tube and ends with the outer tube. \n",
    "Furthermore, you can translate the robots tube with:"
   ]
  },
  {
   "cell_type": "code",
   "execution_count": 5,
   "metadata": {},
   "outputs": [],
   "source": [
    "ctr.translate([0.1,0])"
   ]
  },
  {
   "cell_type": "markdown",
   "metadata": {},
   "source": [
    ", where a list of beta values is given each representing amount of mm the robots tubes are retracted.\n",
    "Remeber that the inner tubes should not move inside the surrounding tube:"
   ]
  },
  {
   "cell_type": "code",
   "execution_count": 6,
   "metadata": {},
   "outputs": [
    {
     "ename": "Exception",
     "evalue": "('Parameter Error', 'The beta values do not correspond to the specifications!')",
     "output_type": "error",
     "traceback": [
      "\u001B[1;31m---------------------------------------------------------------------------\u001B[0m",
      "\u001B[1;31mException\u001B[0m                                 Traceback (most recent call last)",
      "\u001B[1;32m<ipython-input-6-9b62d8174627>\u001B[0m in \u001B[0;36m<module>\u001B[1;34m\u001B[0m\n\u001B[1;32m----> 1\u001B[1;33m \u001B[0mctr\u001B[0m\u001B[1;33m.\u001B[0m\u001B[0mtranslate\u001B[0m\u001B[1;33m(\u001B[0m\u001B[1;33m[\u001B[0m\u001B[1;36m0.6\u001B[0m\u001B[1;33m,\u001B[0m\u001B[1;36m0\u001B[0m\u001B[1;33m]\u001B[0m\u001B[1;33m)\u001B[0m\u001B[1;33m\u001B[0m\u001B[1;33m\u001B[0m\u001B[0m\n\u001B[0m",
      "\u001B[1;32m~\\PycharmProjects\\continuum_robot_models\\pyctcr\\robots.py\u001B[0m in \u001B[0;36mtranslate\u001B[1;34m(self, betas)\u001B[0m\n\u001B[0;32m    111\u001B[0m                 \u001B[0mself\u001B[0m\u001B[1;33m.\u001B[0m\u001B[0mbetas\u001B[0m\u001B[1;33m[\u001B[0m\u001B[0mi\u001B[0m\u001B[1;33m]\u001B[0m \u001B[1;33m=\u001B[0m \u001B[0mbetas\u001B[0m\u001B[1;33m[\u001B[0m\u001B[0mi\u001B[0m\u001B[1;33m]\u001B[0m\u001B[1;33m\u001B[0m\u001B[1;33m\u001B[0m\u001B[0m\n\u001B[0;32m    112\u001B[0m         \u001B[1;32melse\u001B[0m\u001B[1;33m:\u001B[0m\u001B[1;33m\u001B[0m\u001B[1;33m\u001B[0m\u001B[0m\n\u001B[1;32m--> 113\u001B[1;33m             \u001B[1;32mraise\u001B[0m \u001B[0mException\u001B[0m\u001B[1;33m(\u001B[0m\u001B[1;34m'Parameter Error'\u001B[0m\u001B[1;33m,\u001B[0m \u001B[1;34m'The beta values do not correspond to the specifications!'\u001B[0m\u001B[1;33m)\u001B[0m\u001B[1;33m\u001B[0m\u001B[1;33m\u001B[0m\u001B[0m\n\u001B[0m\u001B[0;32m    114\u001B[0m     \u001B[1;32mdef\u001B[0m \u001B[0mcalc_forward\u001B[0m\u001B[1;33m(\u001B[0m\u001B[0mself\u001B[0m\u001B[1;33m,\u001B[0m \u001B[0mwrench\u001B[0m\u001B[1;33m:\u001B[0m \u001B[0mUnion\u001B[0m\u001B[1;33m[\u001B[0m\u001B[0mlist\u001B[0m\u001B[1;33m,\u001B[0m \u001B[0mnpt\u001B[0m\u001B[1;33m.\u001B[0m\u001B[0mArrayLike\u001B[0m\u001B[1;33m]\u001B[0m\u001B[1;33m,\u001B[0m \u001B[0mstep_len\u001B[0m\u001B[1;33m:\u001B[0m \u001B[0mfloat\u001B[0m\u001B[1;33m)\u001B[0m\u001B[1;33m:\u001B[0m\u001B[1;33m\u001B[0m\u001B[1;33m\u001B[0m\u001B[0m\n\u001B[0;32m    115\u001B[0m         \"\"\"\n",
      "\u001B[1;31mException\u001B[0m: ('Parameter Error', 'The beta values do not correspond to the specifications!')"
     ]
    }
   ],
   "source": [
    "ctr.translate([0.6,0])"
   ]
  },
  {
   "cell_type": "markdown",
   "metadata": {},
   "source": [
    "An exception called \"Parameter Error\" is thrown, which signalizes such a situation.\n",
    "*TODO* in future releases the concrete beta values will be shown in the exception."
   ]
  },
  {
   "cell_type": "markdown",
   "metadata": {},
   "source": [
    "## Apply an external tip force to the robot"
   ]
  },
  {
   "cell_type": "markdown",
   "metadata": {},
   "source": [
    "The robot class enables the calculation of the robots shape under a contact at the tip.\n",
    "To do so, you have to call the `push_end` function, which receives a chosen tip wrench and uses a shooting method to find the shape of the robot. In a further tutorial we will see how to define a force at an arbitrary position."
   ]
  },
  {
   "cell_type": "code",
   "execution_count": 8,
   "metadata": {},
   "outputs": [
    {
     "data": {
      "text/plain": [
       "(array([[ 0.00000000e+00,  0.00000000e+00,  0.00000000e+00],\n",
       "        [-6.52148655e-11, -9.07569556e-07,  1.19040961e-03],\n",
       "        [-5.26622466e-08, -7.80504410e-05,  1.11900499e-02],\n",
       "        [-3.50092157e-07, -2.72157551e-04,  2.11881137e-02],\n",
       "        [-1.09285921e-06, -5.72911573e-04,  3.11835470e-02],\n",
       "        [-1.40704234e-06, -6.75190150e-04,  3.39912739e-02],\n",
       "        [-1.40704234e-06, -6.75190150e-04,  3.39912739e-02],\n",
       "        [ 2.07802927e-06, -8.84219702e-04,  3.77183841e-02],\n",
       "        [ 1.62489362e-05, -1.28532448e-03,  4.16657668e-02],\n",
       "        [ 9.89621688e-05, -3.10310221e-03,  5.14931066e-02],\n",
       "        [ 2.48960199e-04, -6.04676186e-03,  6.10430842e-02],\n",
       "        [ 4.68873008e-04, -1.00672431e-02,  7.01907033e-02],\n",
       "        [ 6.00863841e-04, -1.23611094e-02,  7.44029121e-02],\n",
       "        [ 6.00863841e-04, -1.23611094e-02,  7.44029121e-02],\n",
       "        [ 8.21328439e-04, -1.60226324e-02,  8.01811591e-02],\n",
       "        [ 1.08630381e-03, -2.01189731e-02,  8.56577784e-02],\n",
       "        [ 1.49038194e-03, -2.53776385e-02,  9.15885368e-02],\n",
       "        [ 2.17001235e-03, -3.27074850e-02,  9.83491829e-02],\n",
       "        [ 3.06327274e-03, -4.07284489e-02,  1.04245104e-01],\n",
       "        [ 3.69962683e-03, -4.57129159e-02,  1.07275263e-01],\n",
       "        [ 3.69962683e-03, -4.57129159e-02,  1.07275263e-01],\n",
       "        [ 5.34399034e-03, -5.43794235e-02,  1.11976326e-01],\n",
       "        [ 7.95814539e-03, -6.29956638e-02,  1.16316521e-01],\n",
       "        [ 1.15477248e-02, -7.14302319e-02,  1.20301336e-01],\n",
       "        [ 1.61183593e-02, -7.95420013e-02,  1.23935298e-01],\n",
       "        [ 1.74145747e-02, -8.15016954e-02,  1.24789143e-01]]),\n",
       " array([[ 1.00000000e+00,  0.00000000e+00,  0.00000000e+00,\n",
       "          0.00000000e+00,  1.00000000e+00,  0.00000000e+00,\n",
       "          0.00000000e+00,  0.00000000e+00,  1.00000000e+00],\n",
       "        [ 9.99999977e-01,  2.13468724e-04, -1.63730120e-07,\n",
       "         -2.13468726e-04,  9.99998818e-01, -1.52236924e-03,\n",
       "         -1.61248293e-07,  1.52236924e-03,  9.99998841e-01],\n",
       "        [ 9.99997987e-01,  2.00664193e-03, -1.40055401e-05,\n",
       "         -2.00664502e-03,  9.99903665e-01, -1.37344011e-02,\n",
       "         -1.35558343e-05,  1.37344016e-02,  9.99905679e-01],\n",
       "        [ 9.99992781e-01,  3.79954211e-03, -4.88221715e-05,\n",
       "         -3.79957903e-03,  9.99682351e-01, -2.49150517e-02,\n",
       "         -4.58591247e-05,  2.49150573e-02,  9.99689571e-01],\n",
       "        [ 9.99984359e-01,  5.59201015e-03, -1.02764913e-04,\n",
       "         -5.59217480e-03,  9.99369431e-01, -3.50637558e-02,\n",
       "         -9.33767661e-05,  3.50637821e-02,  9.99385072e-01],\n",
       "        [ 9.99981415e-01,  6.09552960e-03, -1.21109520e-04,\n",
       "         -6.09575889e-03,  9.99269399e-01, -3.77294352e-02,\n",
       "         -1.08959851e-04,  3.77294722e-02,  9.99287984e-01],\n",
       "        [ 9.99981415e-01,  6.09552960e-03, -1.21109520e-04,\n",
       "         -6.09575889e-03,  9.99269399e-01, -3.77294352e-02,\n",
       "         -1.08959851e-04,  3.77294722e-02,  9.99287984e-01],\n",
       "        [ 9.99974314e-01,  6.80213794e-03,  2.21965952e-03,\n",
       "         -6.60771700e-03,  9.96946105e-01, -7.79014015e-02,\n",
       "         -2.74323126e-03,  7.78847064e-02,  9.96965444e-01],\n",
       "        [ 9.99958463e-01,  7.66336576e-03,  4.91629625e-03,\n",
       "         -6.99266675e-03,  9.92239295e-01, -1.24201890e-01,\n",
       "         -5.83040109e-03,  1.24162325e-01,  9.92251668e-01],\n",
       "        [ 9.99879187e-01,  1.03174689e-02,  1.16183891e-02,\n",
       "         -7.24463840e-03,  9.71055310e-01, -2.38773791e-01,\n",
       "         -1.37460939e-02,  2.38660744e-01,  9.71012741e-01],\n",
       "        [ 9.99737127e-01,  1.36397337e-02,  1.84244627e-02,\n",
       "         -6.34928847e-03,  9.37057060e-01, -3.49138333e-01,\n",
       "         -2.20273809e-02,  3.48929542e-01,  9.36897335e-01],\n",
       "        [ 9.99515220e-01,  1.76295022e-02,  2.56583575e-02,\n",
       "         -4.06285390e-03,  8.91041249e-01, -4.53919384e-01,\n",
       "         -3.08654818e-02,  4.53595056e-01,  8.90680915e-01],\n",
       "        [ 9.99372090e-01,  1.97906094e-02,  2.93867866e-02,\n",
       "         -2.37103946e-03,  8.64961384e-01, -5.01846594e-01,\n",
       "         -3.53507396e-02,  5.01461772e-01,  8.64465188e-01],\n",
       "        [ 9.99372090e-01,  1.97906094e-02,  2.93867866e-02,\n",
       "         -2.37103946e-03,  8.64961384e-01, -5.01846594e-01,\n",
       "         -3.53507396e-02,  5.01461772e-01,  8.64465188e-01],\n",
       "        [ 9.99114792e-01,  2.31692688e-02,  3.51090166e-02,\n",
       "          8.35728268e-04,  8.23558602e-01, -5.67242763e-01,\n",
       "         -4.20573867e-02,  5.66769946e-01,  8.22810215e-01],\n",
       "        [ 9.98675631e-01,  2.69599556e-02,  4.38243143e-02,\n",
       "          6.60444305e-03,  7.77538773e-01, -6.28811479e-01,\n",
       "         -5.10282760e-02,  6.28267744e-01,  7.76330975e-01],\n",
       "        [ 9.97784571e-01,  3.23010104e-02,  5.81637425e-02,\n",
       "          1.72371801e-02,  7.18891832e-01, -6.94918306e-01,\n",
       "         -6.42604455e-02,  6.94380952e-01,  7.16742432e-01],\n",
       "        [ 9.96109516e-01,  4.06851997e-02,  7.81727197e-02,\n",
       "          3.43210503e-02,  6.37932932e-01, -7.69335867e-01,\n",
       "         -8.11699786e-02,  7.69025362e-01,  6.34054771e-01],\n",
       "        [ 9.93571110e-01,  5.11137038e-02,  1.01016180e-01,\n",
       "          5.63733087e-02,  5.50433109e-01, -8.32982281e-01,\n",
       "         -9.81799031e-02,  8.33321366e-01,  5.44013081e-01],\n",
       "        [ 9.91530060e-01,  5.82882388e-02,  1.16064855e-01,\n",
       "          7.20487602e-02,  4.96692992e-01, -8.64938776e-01,\n",
       "         -1.08064803e-01,  8.65974752e-01,  4.88286547e-01],\n",
       "        [ 9.91530060e-01,  5.82882388e-02,  1.16064855e-01,\n",
       "          7.20487602e-02,  4.96692992e-01, -8.64938776e-01,\n",
       "         -1.08064803e-01,  8.65974752e-01,  4.88286547e-01],\n",
       "        [ 9.74701540e-01,  6.82041267e-02,  2.12850970e-01,\n",
       "          1.55961169e-01,  4.74625060e-01, -8.66268552e-01,\n",
       "         -1.60107947e-01,  8.77549404e-01,  4.51980658e-01],\n",
       "        [ 9.47654733e-01,  7.61697337e-02,  3.10079200e-01,\n",
       "          2.42830556e-01,  4.58660801e-01, -8.54796835e-01,\n",
       "         -2.07331278e-01,  8.85348595e-01,  4.16155778e-01],\n",
       "        [ 9.09346636e-01,  8.17000972e-02,  4.07938993e-01,\n",
       "          3.31930476e-01,  4.48681280e-01, -8.29771839e-01,\n",
       "         -2.50827487e-01,  8.89957239e-01,  3.80888055e-01],\n",
       "        [ 8.58283681e-01,  8.42761384e-02,  5.06208542e-01,\n",
       "          4.22292761e-01,  4.44496567e-01, -7.90003584e-01,\n",
       "         -2.91586865e-01,  8.91815010e-01,  3.45914893e-01],\n",
       "        [ 8.43311462e-01,  8.43904212e-02,  5.30758389e-01,\n",
       "          4.44925662e-01,  4.44325629e-01, -7.77579531e-01,\n",
       "         -3.01450272e-01,  8.91889382e-01,  3.37157365e-01]]),\n",
       " array([[-2.81606619e-28, -1.00000000e-01, -1.31422023e-29,\n",
       "          1.24789122e-02, -8.00566485e-09, -1.74146432e-03],\n",
       "        [-2.81606619e-28, -1.00000000e-01, -1.31422023e-29,\n",
       "          1.23598712e-02, -2.07114334e-08, -1.74146432e-03],\n",
       "        [-2.81606619e-28, -1.00000000e-01, -1.31422023e-29,\n",
       "          1.13599080e-02, -1.13078138e-06, -1.74146432e-03],\n",
       "        [-2.81606619e-28, -1.00000000e-01, -1.31422023e-29,\n",
       "          1.03601059e-02, -4.03391934e-06, -1.74146432e-03],\n",
       "        [-2.81606619e-28, -1.00000000e-01, -1.31422023e-29,\n",
       "          9.36057375e-03, -8.72982551e-06, -1.74146432e-03],\n",
       "        [-2.81606619e-28, -1.00000000e-01, -1.31422023e-29,\n",
       "          9.07980587e-03, -1.03717412e-05, -1.74146432e-03],\n",
       "        [-2.81606619e-28, -1.00000000e-01, -1.31422023e-29,\n",
       "          9.07980587e-03, -1.03717412e-05, -1.74146432e-03],\n",
       "        [-2.81606619e-28, -1.00000000e-01, -1.31422023e-29,\n",
       "          8.71162683e-03, -7.63987215e-05, -1.71664523e-03],\n",
       "        [-2.81606619e-28, -1.00000000e-01, -1.31422023e-29,\n",
       "          8.32213416e-03, -1.52329832e-04, -1.68549169e-03],\n",
       "        [-2.81606619e-28, -1.00000000e-01, -1.31422023e-29,\n",
       "          7.35251809e-03, -3.37641121e-04, -1.59621470e-03],\n",
       "        [-2.81606619e-28, -1.00000000e-01, -1.31422023e-29,\n",
       "          6.41073916e-03, -5.12019063e-04, -1.49079708e-03],\n",
       "        [-2.81606619e-28, -1.00000000e-01, -1.31422023e-29,\n",
       "          5.50949839e-03, -6.72401809e-04, -1.36923374e-03],\n",
       "        [-2.81606619e-28, -1.00000000e-01, -1.31422023e-29,\n",
       "          5.09489447e-03, -7.43433116e-04, -1.30542050e-03],\n",
       "        [-2.81606619e-28, -1.00000000e-01, -1.31422023e-29,\n",
       "          5.09489447e-03, -7.43433116e-04, -1.30542050e-03],\n",
       "        [-2.81606619e-28, -1.00000000e-01, -1.31422023e-29,\n",
       "          4.52663390e-03, -8.37108675e-04, -1.20869716e-03],\n",
       "        [-2.81606619e-28, -1.00000000e-01, -1.31422023e-29,\n",
       "          3.99127186e-03, -9.20360921e-04, -1.09612527e-03],\n",
       "        [-2.81606619e-28, -1.00000000e-01, -1.31422023e-29,\n",
       "          3.41503261e-03, -9.98510026e-04, -9.48248367e-04],\n",
       "        [-2.81606619e-28, -1.00000000e-01, -1.31422023e-29,\n",
       "          2.75744780e-03, -1.06477892e-03, -7.59900911e-04],\n",
       "        [-2.81606619e-28, -1.00000000e-01, -1.31422023e-29,\n",
       "          2.18209576e-03, -1.09092053e-03, -5.73201657e-04],\n",
       "        [-2.81606619e-28, -1.00000000e-01, -1.31422023e-29,\n",
       "          1.88476286e-03, -1.08559808e-03, -4.66407730e-04],\n",
       "        [-2.81606619e-28, -1.00000000e-01, -1.31422023e-29,\n",
       "          1.88476286e-03, -1.08559808e-03, -4.66407730e-04],\n",
       "        [-2.81606619e-28, -1.00000000e-01, -1.31422023e-29,\n",
       "          1.44212587e-03, -9.71867374e-04, -2.72844923e-04],\n",
       "        [-2.81606619e-28, -1.00000000e-01, -1.31422023e-29,\n",
       "          9.98972674e-04, -7.72689707e-04, -1.30816338e-04],\n",
       "        [-2.81606619e-28, -1.00000000e-01, -1.31422023e-29,\n",
       "          5.55253506e-04, -4.85460103e-04, -4.03861622e-05],\n",
       "        [-2.81606619e-28, -1.00000000e-01, -1.31422023e-29,\n",
       "          1.11079967e-04, -1.08402749e-04, -1.61566851e-06],\n",
       "        [-2.81606619e-28, -1.00000000e-01, -1.31422023e-29,\n",
       "          1.89063175e-15, -1.25389337e-15,  2.87569380e-16]]),\n",
       " array([[ 0.00000000e+00,  0.00000000e+00],\n",
       "        [-2.13468809e-04,  0.00000000e+00],\n",
       "        [-2.00670641e-03,  0.00000000e+00],\n",
       "        [-3.79994400e-03,  0.00000000e+00],\n",
       "        [-5.59318160e-03,  0.00000000e+00],\n",
       "        [-6.09700783e-03,  0.00000000e+00],\n",
       "        [-6.09700783e-03,  0.00000000e+00],\n",
       "        [-6.76222428e-03,  1.09580500e-01],\n",
       "        [-7.45736640e-03,  2.37746585e-01],\n",
       "        [-9.14835808e-03,  5.66799476e-01],\n",
       "        [-1.07391534e-02,  9.16556149e-01],\n",
       "        [-1.22130410e-02,  1.30275961e+00],\n",
       "        [-1.28740019e-02,  1.50597851e+00],\n",
       "        [-1.28740019e-02,  1.50597851e+00],\n",
       "        [-1.37605348e-02,  1.82124059e+00],\n",
       "        [-1.45752836e-02,  2.22006789e+00],\n",
       "        [-1.54111293e-02,  2.80295830e+00],\n",
       "        [-1.62906500e-02,  3.64336915e+00],\n",
       "        [-1.69766702e-02,  4.63250548e+00],\n",
       "        [-1.72906628e-02,  5.29599529e+00],\n",
       "        [-1.72906628e-02,  5.29599529e+00],\n",
       "        [-2.30435514e-02,  5.29599529e+00],\n",
       "        [-2.61540959e-02,  5.29599529e+00],\n",
       "        [-2.74342991e-02,  5.29599529e+00],\n",
       "        [-2.76971761e-02,  5.29599529e+00],\n",
       "        [-2.76992963e-02,  5.29599529e+00]]),\n",
       " array([[ 0.        , -1.5       ],\n",
       "        [ 0.        , -1.49999987],\n",
       "        [ 0.        , -1.49998877],\n",
       "        [ 0.        , -1.49995974],\n",
       "        [ 0.        , -1.49991277],\n",
       "        [ 0.        , -1.49989635],\n",
       "        [ 0.        , -1.49989635],\n",
       "        [ 0.        , -1.49968824],\n",
       "        [ 0.        , -1.49897105],\n",
       "        [ 0.        , -1.49487615],\n",
       "        [ 0.        , -1.4873835 ],\n",
       "        [ 0.        , -1.47620929],\n",
       "        [ 0.        , -1.46941528],\n",
       "        [ 0.        , -1.46941528],\n",
       "        [ 0.        , -1.45795357],\n",
       "        [ 0.        , -1.44414239],\n",
       "        [ 0.        , -1.42412697],\n",
       "        [ 0.        , -1.39184673],\n",
       "        [ 0.        , -1.35043889],\n",
       "        [ 0.        , -1.32123625],\n",
       "        [ 0.        , -1.32123625],\n",
       "        [ 0.        , -1.32123625],\n",
       "        [ 0.        , -1.32123625],\n",
       "        [ 0.        , -1.32123625],\n",
       "        [ 0.        , -1.32123625],\n",
       "        [ 0.        , -1.32123625]]))"
      ]
     },
     "execution_count": 8,
     "metadata": {},
     "output_type": "execute_result"
    }
   ],
   "source": [
    "ctr.push_end([0,0.1,0,0,0,0])"
   ]
  },
  {
   "cell_type": "markdown",
   "metadata": {},
   "source": [
    "As return values you receive the state information of the robot in the following order:\n",
    "- positions (discrete stepts) along the space curve\n",
    "- orientation of the local frames (at the given discrete time steps) \n",
    "- inner wrenches (at the given discrete time steps) \n",
    "- rotations due to torsion (u_z) (at the given discrete time steps) \n",
    "- theta (angle between inner rod and surrounding rods) (at the given discrete time steps) "
   ]
  },
  {
   "cell_type": "markdown",
   "metadata": {},
   "source": [
    "## Apply a force distribution along the robots tubes\n",
    "Besides only pushing at the tip of the robot, the PyCTCR package also enables you to apply force distribitons (loads) along the whole body of the robot. To do so, you have to first define such distributions. Currenty, the package only permits to model the distributins as a mixture of Gaussians. *TODO* more will follow. You can add such a mixture, by using the following function:"
   ]
  },
  {
   "cell_type": "code",
   "execution_count": 21,
   "metadata": {},
   "outputs": [
    {
     "data": {
      "text/plain": [
       "array([[ 0.00000000e+00,  0.00000000e+00,  0.00000000e+00],\n",
       "       [-2.52898965e-09,  5.73266832e-07,  6.34901754e-04],\n",
       "       [-3.08672705e-07,  6.64385323e-05,  6.98350670e-03],\n",
       "       [-1.82718029e-06,  3.65882870e-04,  1.69788231e-02],\n",
       "       [-4.54900927e-06,  8.56625626e-04,  2.69666604e-02],\n",
       "       [-7.09362200e-06,  1.28729348e-03,  3.39694847e-02],\n",
       "       [-7.09362200e-06,  1.28729348e-03,  3.39694847e-02],\n",
       "       [ 5.69480242e-05,  1.54685173e-03,  3.78019729e-02],\n",
       "       [ 2.84356057e-04,  1.82352048e-03,  4.16661694e-02],\n",
       "       [ 1.62031428e-03,  2.58525705e-03,  5.15422836e-02],\n",
       "       [ 4.02296900e-03,  3.38553428e-03,  6.12112901e-02],\n",
       "       [ 7.46415537e-03,  4.19084735e-03,  7.05607638e-02],\n",
       "       [ 1.19033811e-02,  4.97547021e-03,  7.94815600e-02],\n",
       "       [ 1.72882920e-02,  5.72015772e-03,  8.78691181e-02],\n",
       "       [ 1.92481808e-02,  5.95293570e-03,  9.04848205e-02],\n",
       "       [ 1.92481808e-02,  5.95293570e-03,  9.04848205e-02],\n",
       "       [ 2.58116482e-02,  6.62121330e-03,  9.79923482e-02],\n",
       "       [ 3.32057687e-02,  7.21625669e-03,  1.04690231e-01],\n",
       "       [ 4.04882490e-02,  7.68142719e-03,  1.09951058e-01],\n",
       "       [ 4.04882490e-02,  7.68142719e-03,  1.09951058e-01],\n",
       "       [ 4.91768664e-02,  8.12492712e-03,  1.14870404e-01],\n",
       "       [ 5.83800393e-02,  8.49675336e-03,  1.18750104e-01],\n",
       "       [ 6.79733095e-02,  8.79244027e-03,  1.21537659e-01],\n",
       "       [ 7.78269461e-02,  9.00848036e-03,  1.23195337e-01],\n",
       "       [ 8.78076986e-02,  9.14233306e-03,  1.23700691e-01],\n",
       "       [ 9.77805977e-02,  9.19244876e-03,  1.23046862e-01],\n",
       "       [ 9.87722526e-02,  9.19282515e-03,  1.22917928e-01]])"
      ]
     },
     "execution_count": 21,
     "metadata": {},
     "output_type": "execute_result"
    }
   ],
   "source": [
    "ctr.set_gaussians([((0,10), 1000, 0.05)])\n",
    "pos, _, _, _, _ = ctr.fwd_external_gaussian_forces()\n",
    "ctr.remove_gaussians()\n",
    "pos"
   ]
  },
  {
   "cell_type": "markdown",
   "metadata": {},
   "source": [
    "*Note* The calculations are drawn from the paper:\n",
    "Estimating Forces Along Continuum Robots (2022) - Vincent Aloi; Khoa T. Dang; Eric J. Barth; Caleb Rucker - DOI: 10.1109/LRA.2022.3188905\n",
    "https://ieeexplore.ieee.org/document/9816130"
   ]
  },
  {
   "cell_type": "markdown",
   "metadata": {},
   "source": [
    "The three lines above set a force distribution at 0.05 mm along the robots shaft (starting from the base) with a variance of 1/1000 (from Alois' paper $c = 1/\\sigma^2$). The gaussian is two dimensional and the first tuple represents the force in x and y direction of each given orientation frame, which represents the cross section of the tubes."
   ]
  },
  {
   "cell_type": "code",
   "execution_count": null,
   "metadata": {},
   "outputs": [],
   "source": []
  }
 ],
 "metadata": {
  "kernelspec": {
   "display_name": "pctcr",
   "language": "python",
   "name": "pctcr"
  },
  "language_info": {
   "codemirror_mode": {
    "name": "ipython",
    "version": 3
   },
   "file_extension": ".py",
   "mimetype": "text/x-python",
   "name": "python",
   "nbconvert_exporter": "python",
   "pygments_lexer": "ipython3",
   "version": "3.8.8"
  }
 },
 "nbformat": 4,
 "nbformat_minor": 1
}
